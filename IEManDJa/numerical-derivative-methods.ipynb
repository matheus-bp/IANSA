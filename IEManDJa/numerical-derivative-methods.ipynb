{
 "cells": [
  {
   "cell_type": "markdown",
   "id": "a7464dc3",
   "metadata": {},
   "source": [
    "# Methods for numerical derivation"
   ]
  },
  {
   "cell_type": "code",
   "execution_count": 4,
   "id": "b983eae3",
   "metadata": {},
   "outputs": [
    {
     "data": {
      "text/plain": [
       "GLMakie"
      ]
     },
     "metadata": {},
     "output_type": "display_data"
    }
   ],
   "source": [
    "# using Pkg\n",
    "# Pkg.add(\"CairoMakie\")\n",
    "# Pkg.add(\"GLMakie\")\n",
    "# import CairoMakie\n",
    "import GLMakie\n",
    "mak = GLMakie"
   ]
  },
  {
   "cell_type": "markdown",
   "id": "7aa205b8",
   "metadata": {},
   "source": [
    "## Forward Euler"
   ]
  },
  {
   "cell_type": "markdown",
   "id": "70cc8b19",
   "metadata": {},
   "source": [
    "$$ x'(t) = -2x(t) + t $$\n",
    "\n",
    "$$ x_{n+1} = x_{n} + hx'_{n} $$"
   ]
  },
  {
   "cell_type": "code",
   "execution_count": 5,
   "id": "5b96feab",
   "metadata": {},
   "outputs": [
    {
     "data": {
      "text/plain": [
       "1"
      ]
     },
     "metadata": {},
     "output_type": "display_data"
    }
   ],
   "source": [
    "t = 0   # initial value of the indepedent variable\n",
    "h = 0.001 # step size\n",
    "x0 = 1 # initial condition\n",
    "N = 2000 # number of iterations\n",
    "\n",
    "dxdt(x,t) = -2 * x + t\n",
    "\n",
    "X = zeros(N)\n",
    "X[1] = x0\n"
   ]
  },
  {
   "cell_type": "code",
   "execution_count": 6,
   "id": "accf4356",
   "metadata": {},
   "outputs": [
    {
     "data": {
      "text/plain": [
       "2000-element Vector{Float64}:\n",
       " 1.0\n",
       " 0.998\n",
       " 0.996005\n",
       " 0.99401499\n",
       " 0.99202996002\n",
       " 0.99004990009996\n",
       " 0.98807480029976\n",
       " 0.9861046506991605\n",
       " 0.9841394413977622\n",
       " 0.9821791625149667\n",
       " ⋮\n",
       " 0.7687176209244126\n",
       " 0.7691711856825637\n",
       " 0.7696248433111985\n",
       " 0.770078593624576\n",
       " 0.7705324364373267\n",
       " 0.7709863715644519\n",
       " 0.7714403988213229\n",
       " 0.7718945180236801\n",
       " 0.7723487289876326"
      ]
     },
     "metadata": {},
     "output_type": "display_data"
    }
   ],
   "source": [
    "for i in collect(2:N)\n",
    "    X[i] = X[i-1] + h * dxdt(X[i-1], t)\n",
    "    t += h\n",
    "end\n",
    "X"
   ]
  },
  {
   "cell_type": "code",
   "execution_count": 7,
   "id": "3e3ead8c",
   "metadata": {},
   "outputs": [],
   "source": [
    "f = mak.Figure()\n",
    "mak.Axis(f[1,1])\n",
    "\n",
    "mak.lines(X)"
   ]
  },
  {
   "cell_type": "markdown",
   "id": "7ed9b4d7",
   "metadata": {},
   "source": [
    "### Lorentz Atractor"
   ]
  },
  {
   "cell_type": "code",
   "execution_count": 56,
   "id": "afbccd8d",
   "metadata": {},
   "outputs": [
    {
     "data": {
      "text/plain": [
       "dxdt (generic function with 2 methods)"
      ]
     },
     "metadata": {},
     "output_type": "display_data"
    }
   ],
   "source": [
    "a = 15\n",
    "r = 35\n",
    "b = 2\n",
    "\n",
    "t = 0   # initial value of the indepedent variable\n",
    "h = 0.01 # step size\n",
    "N = 10000 # number of iterations\n",
    "\n",
    "# X = repeat([0.0; 0.0; 0.0], outer = [N])\n",
    "X = []\n",
    "x0 = [0; 1; 2]\n",
    "push!(X,x0)\n",
    "\n",
    "\n",
    "dxdt(x) = [a*(x[2] - x[1]); \n",
    "         r*x[1] - x[2] - x[1]*x[3];\n",
    "         x[1]*x[2] - b*x[3]]\n",
    "\n",
    "\n"
   ]
  },
  {
   "cell_type": "code",
   "execution_count": null,
   "id": "9ab9dac7",
   "metadata": {},
   "outputs": [
    {
     "data": {
      "text/plain": [
       "10000-element Vector{Any}:\n",
       " [0, 1, 2]\n",
       " [0.15, 0.99, 1.96]\n",
       " [0.276, 1.02966, 1.922285]\n",
       " [0.38904900000000003, 1.1106578934, 1.8866811616]\n",
       " [0.49729033401000006, 1.2283783502736068, 1.8532685417956938]\n",
       " [0.6069535364495411, 1.3809300583527726, 1.822311777760762]\n",
       " [0.7230500147350258, 1.5684939097463289, 1.7942471460306137]\n",
       " [0.8498665989867213, 1.7929031715523676, 1.7697031985555403]\n",
       " [0.9913220848715683, 2.0573873330964734, 1.7495464197916266]\n",
       " [1.151231872105304, 2.3664325494260834, 1.7349508264001297]\n",
       " ⋮\n",
       " [-1.081216881415028, -1.8962986682553282, 12.666196881178587]\n",
       " [-1.203479149441073, -2.118812531155468, 12.43337604487824]\n",
       " [-1.3407791566982323, -2.3692090198765783, 12.210207991008877]\n",
       " [-1.4950436361749841, -2.6510777107892447, 11.99776969190582]\n",
       " [-1.6684487473671232, -2.968460314080828, 11.797449066672911]\n",
       " [-1.8634504823741789, -3.3258983813443344, 11.611027324265825]\n",
       " [-2.082817667219702, -3.7284813216792245, 11.440783247210945]\n",
       " [-2.3296672153886306, -4.181892037248106, 11.289625049953647]\n",
       " [-2.607500938667552, -4.692445948732574, 11.16125671672929]"
      ]
     },
     "metadata": {},
     "output_type": "display_data"
    }
   ],
   "source": [
    "for i in collect(2:N)\n",
    "    X_next = X[i-1] .+ h .* dxdt(X[i-1])\n",
    "    push!(X,X_next)\n",
    "end"
   ]
  },
  {
   "cell_type": "code",
   "execution_count": null,
   "id": "ddd85910",
   "metadata": {},
   "outputs": [],
   "source": [
    "mak.activate!(inline=false)\n",
    "fig = mak.Figure(figsize=(400,500))\n",
    "mak.Axis3(fig[1,1])\n",
    "\n",
    "colors = LinRange(1,0.2,N)\n",
    "mak.lines!(mak.Point3f.(X),color=colors,colormap=:inferno)\n",
    "mak.current_figure()"
   ]
  }
 ],
 "metadata": {
  "kernelspec": {
   "display_name": "Julia 1.11.5",
   "language": "julia",
   "name": "julia-1.11"
  },
  "language_info": {
   "file_extension": ".jl",
   "mimetype": "application/julia",
   "name": "julia",
   "version": "1.11.5"
  }
 },
 "nbformat": 4,
 "nbformat_minor": 5
}
