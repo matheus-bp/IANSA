{
 "cells": [
  {
   "cell_type": "code",
   "execution_count": 95,
   "id": "b983eae3",
   "metadata": {},
   "outputs": [
    {
     "data": {
      "text/plain": [
       "CairoMakie"
      ]
     },
     "metadata": {},
     "output_type": "display_data"
    }
   ],
   "source": [
    "# using Pkg\n",
    "# Pkg.add(\"CairoMakie\")\n",
    "import CairoMakie\n",
    "mak = CairoMakie"
   ]
  },
  {
   "cell_type": "markdown",
   "id": "7aa205b8",
   "metadata": {},
   "source": [
    "# Forward Euler"
   ]
  },
  {
   "cell_type": "markdown",
   "id": "70cc8b19",
   "metadata": {},
   "source": [
    "$$ x'(t) = -2x(t) + t $$\n",
    "\n",
    "$$ x_{n+1} = x_{n} + hx'_{n} $$"
   ]
  },
  {
   "cell_type": "code",
   "execution_count": null,
   "id": "5b96feab",
   "metadata": {},
   "outputs": [
    {
     "data": {
      "text/plain": [
       "1"
      ]
     },
     "metadata": {},
     "output_type": "display_data"
    }
   ],
   "source": [
    "t = 0   # initial value of the indepedent variable\n",
    "h = 0.01 # step size\n",
    "x0 = 1 # initial condition\n",
    "N = 20 # number of iterations\n",
    "\n",
    "dxdt(x,t) = -2 * x + t\n",
    "\n",
    "X = zeros(N)\n",
    "X[1] = x0\n"
   ]
  },
  {
   "cell_type": "code",
   "execution_count": 12,
   "id": "accf4356",
   "metadata": {},
   "outputs": [
    {
     "data": {
      "text/plain": [
       "20-element Vector{Float64}:\n",
       " 1.0\n",
       " 0.98\n",
       " 0.9605\n",
       " 0.94149\n",
       " 0.9229602\n",
       " 0.904900996\n",
       " 0.88730297608\n",
       " 0.8701569165584\n",
       " 0.853453778227232\n",
       " 0.8371847026626874\n",
       " 0.8213410086094337\n",
       " 0.805914188437245\n",
       " 0.7908959046685001\n",
       " 0.7762779865751301\n",
       " 0.7620524268436275\n",
       " 0.748211378306755\n",
       " 0.7347471507406199\n",
       " 0.7216522077258075\n",
       " 0.7089191635712914\n",
       " 0.6965407802998655"
      ]
     },
     "metadata": {},
     "output_type": "display_data"
    }
   ],
   "source": [
    "for i in collect(2:N)\n",
    "    X[i] = X[i-1] + h * dxdt(X[i-1], t)\n",
    "    t += h\n",
    "end\n",
    "X"
   ]
  },
  {
   "cell_type": "markdown",
   "id": "7ed9b4d7",
   "metadata": {},
   "source": [
    "## Lorentz Atractor"
   ]
  },
  {
   "cell_type": "code",
   "execution_count": 90,
   "id": "afbccd8d",
   "metadata": {},
   "outputs": [
    {
     "data": {
      "text/plain": [
       "dxdt (generic function with 2 methods)"
      ]
     },
     "metadata": {},
     "output_type": "display_data"
    }
   ],
   "source": [
    "a = 16\n",
    "r = 50\n",
    "b = 4\n",
    "\n",
    "t = 0   # initial value of the indepedent variable\n",
    "h = 0.01 # step size\n",
    "N = 100 # number of iterations\n",
    "\n",
    "# X = repeat([0.0; 0.0; 0.0], outer = [N])\n",
    "X = []\n",
    "x0 = [0; 1; 2]\n",
    "push!(X,x0)\n",
    "\n",
    "\n",
    "dxdt(x) = [a*(x[2] - x[1]); \n",
    "         r*x[1] - x[2] - x[1]*x[3];\n",
    "         x[1]*x[2] - b*x[3]]\n",
    "\n",
    "\n"
   ]
  },
  {
   "cell_type": "code",
   "execution_count": 92,
   "id": "ca296fba",
   "metadata": {},
   "outputs": [
    {
     "data": {
      "text/plain": [
       "3-element Vector{Int64}:\n",
       " 16\n",
       " -1\n",
       " -8"
      ]
     },
     "metadata": {},
     "output_type": "display_data"
    }
   ],
   "source": [
    "X[1] == [0; 1; 2]\n",
    "dxdt(X[1])"
   ]
  },
  {
   "cell_type": "code",
   "execution_count": 94,
   "id": "9ab9dac7",
   "metadata": {},
   "outputs": [
    {
     "data": {
      "text/plain": [
       "199-element Vector{Any}:\n",
       " [0, 1, 2]\n",
       " [0.16, 0.99, 1.92]\n",
       " [0.2928, 1.057028, 1.844784]\n",
       " [0.41507648, 1.187456192448, 1.774087617984]\n",
       " [0.5386572339916801, 1.3757560500866761, 1.708052964629795]\n",
       " [0.6725930445668795, 1.6221265557272617, 1.6471414555304733]\n",
       " [0.8245184063525407, 1.9311232535893532, 1.5921661076971483]\n",
       " [1.0015751819104306, 2.31094352161206, 1.5444019300644607]\n",
       " [1.2110741162626915, 2.7731533309106835, 1.5057716896423157]\n",
       " [1.4610067906063702, 3.332722844549653, 1.479125764251559]\n",
       " ⋮\n",
       " [-9.579766805293014, -17.849056629571084, 22.59817964891784]\n",
       " [-10.902853177177505, -20.29559655331437, 23.404150465018727]\n",
       " [-12.405692117359404, -22.99234701380328, 24.68078354005814]\n",
       " [-14.099556900790425, -25.903447584213417, 26.545911979543128]\n",
       " [-15.988179410138104, -28.95133559437707, 29.136346831763994]\n",
       " [-18.06228439961634, -31.997540538479836, 32.599684434953616]\n",
       " [-20.2919253818345, -34.82045961688442, 37.07518383049823]\n",
       " [-22.616490859442486, -37.094949073570156, 42.6579181603483]\n",
       " [-24.933044173702914, -38.38452085099207, 49.34117720047321]"
      ]
     },
     "metadata": {},
     "output_type": "display_data"
    }
   ],
   "source": [
    "for i in collect(2:N)\n",
    "    X_next = X[i-1] .+ h .* dxdt(X[i-1])\n",
    "    push!(X,X_next)\n",
    "end\n",
    "X"
   ]
  },
  {
   "cell_type": "code",
   "execution_count": 98,
   "id": "ddd85910",
   "metadata": {},
   "outputs": [
    {
     "data": {
      "text/plain": [
       "Makie.LScene()"
      ]
     },
     "metadata": {},
     "output_type": "display_data"
    }
   ],
   "source": [
    "fig = mak.Figure()\n",
    "ax = mak.LScene(fig[1,1])\n"
   ]
  },
  {
   "cell_type": "code",
   "execution_count": null,
   "id": "44071d62",
   "metadata": {},
   "outputs": [],
   "source": []
  }
 ],
 "metadata": {
  "kernelspec": {
   "display_name": "Julia 1.11.5",
   "language": "julia",
   "name": "julia-1.11"
  },
  "language_info": {
   "file_extension": ".jl",
   "mimetype": "application/julia",
   "name": "julia",
   "version": "1.11.5"
  }
 },
 "nbformat": 4,
 "nbformat_minor": 5
}
